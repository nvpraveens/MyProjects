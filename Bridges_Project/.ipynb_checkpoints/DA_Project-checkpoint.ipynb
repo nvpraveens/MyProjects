{
 "cells": [
  {
   "cell_type": "code",
   "execution_count": 1,
   "id": "a2cbf030",
   "metadata": {},
   "outputs": [],
   "source": [
    "import os\n",
    "import pandas as pd\n",
    "import numpy as np\n",
    "%matplotlib notebook\n",
    "import seaborn as sns\n",
    "import matplotlib.pyplot as plt\n",
    "from functools import reduce"
   ]
  },
  {
   "cell_type": "markdown",
   "id": "2d4a6a89",
   "metadata": {},
   "source": [
    "#### Defining couple of lists to use later"
   ]
  },
  {
   "cell_type": "code",
   "execution_count": 2,
   "id": "b059c5da",
   "metadata": {},
   "outputs": [],
   "source": [
    "col_names=['DECK_COND_058','SUPERSTRUCTURE_COND_059','SUBSTRUCTURE_COND_060','CHANNEL_COND_061','CULVERT_COND_062'\n",
    "]\n",
    "rating=['9','8','7','6','5','4','<3']"
   ]
  },
  {
   "cell_type": "markdown",
   "id": "6dc292d7",
   "metadata": {},
   "source": [
    "Importing Datasets from the year 2011 to 2020, instead of all the columns for simplicity importing only required columns"
   ]
  },
  {
   "cell_type": "code",
   "execution_count": null,
   "id": "45421f10",
   "metadata": {},
   "outputs": [],
   "source": [
    "FL_2020=pd.read_excel(\"FL_2020.xlsx\")\n",
    "FL_2019=pd.read_excel(\"FL_2019.xlsx\")\n",
    "FL_2018=pd.read_excel(\"FL_2018.xlsx\")\n",
    "FL_2017=pd.read_excel(\"FL_2017.xlsx\")\n",
    "FL_2016=pd.read_excel(\"FL_2016.xlsx\")\n",
    "FL_2015=pd.read_excel(\"FL_2015.xlsx\")\n",
    "FL_2014=pd.read_excel(\"FL_2014.xlsx\")\n",
    "FL_2013=pd.read_excel(\"FL_2013.xlsx\")\n",
    "FL_2012=pd.read_excel(\"FL_2012.xlsx\")\n",
    "FL_2011=pd.read_excel(\"FL_2011.xlsx\")"
   ]
  },
  {
   "cell_type": "code",
   "execution_count": null,
   "id": "7a594655",
   "metadata": {},
   "outputs": [],
   "source": [
    "FL_2020.shape"
   ]
  },
  {
   "cell_type": "code",
   "execution_count": null,
   "id": "1f7e5292",
   "metadata": {},
   "outputs": [],
   "source": [
    "FL_2019.shape"
   ]
  },
  {
   "cell_type": "code",
   "execution_count": null,
   "id": "ea1fbd7d",
   "metadata": {},
   "outputs": [],
   "source": [
    "FL_2018.shape"
   ]
  },
  {
   "cell_type": "code",
   "execution_count": null,
   "id": "f3fa8363",
   "metadata": {},
   "outputs": [],
   "source": [
    "FL_2017.shape"
   ]
  },
  {
   "cell_type": "code",
   "execution_count": null,
   "id": "edc4f82c",
   "metadata": {},
   "outputs": [],
   "source": [
    "FL_2016.shape"
   ]
  },
  {
   "cell_type": "code",
   "execution_count": null,
   "id": "68ffa142",
   "metadata": {},
   "outputs": [],
   "source": [
    "FL_2015.shape"
   ]
  },
  {
   "cell_type": "code",
   "execution_count": null,
   "id": "88b78d81",
   "metadata": {},
   "outputs": [],
   "source": [
    "FL_2014.shape"
   ]
  },
  {
   "cell_type": "code",
   "execution_count": null,
   "id": "e54aa658",
   "metadata": {},
   "outputs": [],
   "source": [
    "FL_2013.shape"
   ]
  },
  {
   "cell_type": "code",
   "execution_count": null,
   "id": "2f720e0e",
   "metadata": {},
   "outputs": [],
   "source": [
    "FL_2012.shape"
   ]
  },
  {
   "cell_type": "code",
   "execution_count": null,
   "id": "b18753d6",
   "metadata": {},
   "outputs": [],
   "source": [
    "FL_2011.shape"
   ]
  },
  {
   "cell_type": "markdown",
   "id": "1f5332b8",
   "metadata": {},
   "source": [
    "Defining a Rating column in each dataframe by taking the minimum value of the possible ratings"
   ]
  },
  {
   "cell_type": "code",
   "execution_count": null,
   "id": "825165e1",
   "metadata": {},
   "outputs": [],
   "source": [
    "# FL_2020\n",
    "# fig_dims = (12, 8)\n",
    "# fig, ax = plt.subplots(figsize=fig_dims)\n",
    "# sns.heatmap(FL_2020.corr(), ax=ax)\n",
    "# plt.show()"
   ]
  },
  {
   "cell_type": "code",
   "execution_count": null,
   "id": "de98fcf1",
   "metadata": {},
   "outputs": [],
   "source": [
    "# abs(FL_2020.corr()[\"Rating_2020\"]).sort_values(ascending = False)[1:10]"
   ]
  },
  {
   "cell_type": "code",
   "execution_count": null,
   "id": "ad5f730e",
   "metadata": {},
   "outputs": [],
   "source": [
    "# abs(FL_2020.corr()[\"Rating_2020\"][abs(FL_2020.corr()[\"Rating_2020\"])>=0.3].drop('Rating_2020')).index.tolist()"
   ]
  },
  {
   "cell_type": "code",
   "execution_count": null,
   "id": "92de4d5f",
   "metadata": {},
   "outputs": [],
   "source": [
    "FL_2020.replace('N', np.NaN, inplace=True)\n",
    "FL_2020['Rating_2020']=FL_2020[col_names].min(axis=1,skipna=True)\n",
    "FL_2020.drop(FL_2020.index[FL_2020['Rating_2020']<=0], inplace = True)\n",
    "FL_2020 = FL_2020.drop(col_names,1)\n",
    "FL_2020.set_index('STRUCTURE_NUMBER_008')\n",
    "FL_2020"
   ]
  },
  {
   "cell_type": "code",
   "execution_count": null,
   "id": "43759822",
   "metadata": {},
   "outputs": [],
   "source": [
    "# FL_2020.columns.to_list()"
   ]
  },
  {
   "cell_type": "code",
   "execution_count": null,
   "id": "739450d0",
   "metadata": {},
   "outputs": [],
   "source": [
    "# corr=FL_2020.corr().abs()\n",
    "# sns.heatmap(FL_2020.corr(), annot=True)\n",
    "# plt.show()"
   ]
  },
  {
   "cell_type": "code",
   "execution_count": null,
   "id": "002b473a",
   "metadata": {},
   "outputs": [],
   "source": [
    "FL_2019.replace('N', np.NaN, inplace=True)\n",
    "FL_2019['Rating_2019']=FL_2019[col_names].min(axis=1,skipna=True)\n",
    "FL_2019.drop(FL_2019.index[FL_2019['Rating_2019']<=0], inplace = True)\n",
    "FL_2019 = FL_2019.drop(col_names,1)\n",
    "FL_2019.set_index('STRUCTURE_NUMBER_008')\n",
    "FL_2019"
   ]
  },
  {
   "cell_type": "code",
   "execution_count": null,
   "id": "5168ebde",
   "metadata": {},
   "outputs": [],
   "source": [
    "FL_2018.replace('N', np.NaN, inplace=True)\n",
    "FL_2018['Rating_2018']=FL_2018[col_names].min(axis=1,skipna=True)\n",
    "FL_2018.drop(FL_2018.index[FL_2018['Rating_2018']<=0], inplace = True)\n",
    "FL_2018 = FL_2018.drop(col_names,1)\n",
    "FL_2018.set_index('STRUCTURE_NUMBER_008')\n",
    "FL_2018"
   ]
  },
  {
   "cell_type": "code",
   "execution_count": null,
   "id": "2c582003",
   "metadata": {},
   "outputs": [],
   "source": [
    "FL_2017.replace('N', np.NaN, inplace=True)\n",
    "FL_2017['Rating_2017']=FL_2017[col_names].min(axis=1,skipna=True)\n",
    "FL_2017.drop(FL_2017.index[FL_2017['Rating_2017']<=0], inplace = True)\n",
    "FL_2017 = FL_2017.drop(col_names,1)\n",
    "FL_2017"
   ]
  },
  {
   "cell_type": "code",
   "execution_count": null,
   "id": "e20021a7",
   "metadata": {},
   "outputs": [],
   "source": [
    "FL_2016.replace('N', np.NaN, inplace=True)\n",
    "FL_2016['Rating_2016']=FL_2016[col_names].min(axis=1,skipna=True)\n",
    "FL_2016.drop(FL_2016.index[FL_2016['Rating_2016']<=0], inplace = True)\n",
    "FL_2016 = FL_2016.drop(col_names,1)\n",
    "FL_2016"
   ]
  },
  {
   "cell_type": "code",
   "execution_count": null,
   "id": "c2e6581a",
   "metadata": {},
   "outputs": [],
   "source": [
    "FL_2015.replace('N', np.NaN, inplace=True)\n",
    "FL_2015['Rating_2015']=FL_2015[col_names].min(axis=1,skipna=True)\n",
    "FL_2015.drop(FL_2015.index[FL_2015['Rating_2015']<=0], inplace = True)\n",
    "FL_2015 = FL_2015.drop(col_names,1)\n",
    "FL_2015.set_index('STRUCTURE_NUMBER_008')\n",
    "FL_2015"
   ]
  },
  {
   "cell_type": "code",
   "execution_count": null,
   "id": "002ee69c",
   "metadata": {},
   "outputs": [],
   "source": [
    "FL_2014.replace('N', np.NaN, inplace=True)\n",
    "FL_2014['Rating_2014']=FL_2014[col_names].min(axis=1,skipna=True)\n",
    "FL_2014.drop(FL_2014.index[FL_2014['Rating_2014']<=0], inplace = True)\n",
    "FL_2014 = FL_2014.drop(col_names,1)\n",
    "FL_2014.set_index('STRUCTURE_NUMBER_008')\n",
    "FL_2014"
   ]
  },
  {
   "cell_type": "code",
   "execution_count": null,
   "id": "6e61fb0e",
   "metadata": {},
   "outputs": [],
   "source": [
    "FL_2013.replace('N', np.NaN, inplace=True)\n",
    "FL_2013['Rating_2013']=FL_2013[col_names].min(axis=1,skipna=True)\n",
    "FL_2013.drop(FL_2013.index[FL_2013['Rating_2013']<=0], inplace = True)\n",
    "FL_2013 = FL_2013.drop(col_names,1)\n",
    "FL_2013.set_index('STRUCTURE_NUMBER_008')\n",
    "FL_2013"
   ]
  },
  {
   "cell_type": "code",
   "execution_count": null,
   "id": "dd846256",
   "metadata": {
    "scrolled": true
   },
   "outputs": [],
   "source": [
    "FL_2012.replace('N', np.NaN, inplace=True)\n",
    "FL_2012['Rating_2012']=FL_2012[col_names].min(axis=1,skipna=True)\n",
    "FL_2012.drop(FL_2012.index[FL_2012['Rating_2012']<=0], inplace = True)\n",
    "FL_2012 = FL_2012.drop(col_names,1)\n",
    "FL_2012.set_index('STRUCTURE_NUMBER_008')\n",
    "FL_2012"
   ]
  },
  {
   "cell_type": "code",
   "execution_count": null,
   "id": "5dc46678",
   "metadata": {},
   "outputs": [],
   "source": [
    "FL_2011.replace('N', np.NaN, inplace=True)\n",
    "FL_2011['Rating_2011']=FL_2011[col_names].min(axis=1,skipna=True)\n",
    "FL_2011.drop(FL_2011.index[FL_2011['Rating_2011']<=0], inplace = True)\n",
    "FL_2011 = FL_2011.drop(col_names,1)\n",
    "FL_2011.set_index('STRUCTURE_NUMBER_008')\n",
    "FL_2011"
   ]
  },
  {
   "cell_type": "markdown",
   "id": "48e779d0",
   "metadata": {},
   "source": [
    "Creating a Master sheet with all the ratings from 2011 to 2020"
   ]
  },
  {
   "cell_type": "code",
   "execution_count": null,
   "id": "89cd23a3",
   "metadata": {},
   "outputs": [],
   "source": [
    "rec_c=set(FL_2011.columns) & set(FL_2012.columns) & set(FL_2013.columns) & set(FL_2014.columns) & set(FL_2015.columns) & set(FL_2016.columns) & set(FL_2017.columns) & set(FL_2018.columns) & set(FL_2019.columns) & set(FL_2020.columns)\n",
    "col=list(rec_c)\n",
    "col"
   ]
  },
  {
   "cell_type": "code",
   "execution_count": null,
   "id": "ba9b767e",
   "metadata": {},
   "outputs": [],
   "source": [
    "Master= pd.concat([FL_2020,FL_2019['Rating_2020']], axis=1)"
   ]
  },
  {
   "cell_type": "code",
   "execution_count": null,
   "id": "3050663f",
   "metadata": {},
   "outputs": [],
   "source": [
    "Master"
   ]
  },
  {
   "cell_type": "code",
   "execution_count": null,
   "id": "6a300e9d",
   "metadata": {},
   "outputs": [],
   "source": [
    "Master.info()"
   ]
  },
  {
   "cell_type": "code",
   "execution_count": null,
   "id": "6f6fbdc8",
   "metadata": {},
   "outputs": [],
   "source": [
    "Master"
   ]
  },
  {
   "cell_type": "code",
   "execution_count": null,
   "id": "3e87f8b4",
   "metadata": {},
   "outputs": [],
   "source": []
  }
 ],
 "metadata": {
  "kernelspec": {
   "display_name": "Python 3",
   "language": "python",
   "name": "python3"
  },
  "language_info": {
   "codemirror_mode": {
    "name": "ipython",
    "version": 3
   },
   "file_extension": ".py",
   "mimetype": "text/x-python",
   "name": "python",
   "nbconvert_exporter": "python",
   "pygments_lexer": "ipython3",
   "version": "3.8.8"
  }
 },
 "nbformat": 4,
 "nbformat_minor": 5
}
